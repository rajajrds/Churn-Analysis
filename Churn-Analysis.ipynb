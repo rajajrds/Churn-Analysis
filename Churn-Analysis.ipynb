{
 "cells": [
  {
   "cell_type": "markdown",
   "metadata": {},
   "source": [
    "# Churn Analysis for a Telecom company\n",
    "\n",
    "Find the Tableau's EDA part <a href = 'https://public.tableau.com/profile/viramya#!/vizhome/TelecomChurnAnalysis_16052106757860/TelecomChurnAnalysis'>here</a> and the code <a href = 'https://github.com/viramya-shah/Churn-Analysis'>here </a>.\n",
    "\n",
    "### Using:\n",
    "* Pyspark\n",
    "\n",
    "<hr>\n",
    "Note: Will require spark set up and Python (DOESN'T WORK WITH Python 3.8)"
   ]
  },
  {
   "cell_type": "code",
   "execution_count": 1,
   "metadata": {},
   "outputs": [],
   "source": [
    "# spark session\n",
    "from pyspark.sql import SparkSession\n",
    "\n",
    "# pipeline imports\n",
    "from pyspark.ml import Pipeline\n",
    "from pyspark.ml.feature import OneHotEncoderEstimator, StringIndexer, VectorAssembler, Imputer, QuantileDiscretizer\n",
    "\n",
    "# model imports\n",
    "from pyspark.ml.classification import LogisticRegression, RandomForestClassifier\n",
    "\n",
    "# evaluation \n",
    "from pyspark.ml.evaluation import BinaryClassificationEvaluator\n",
    "from pyspark.mllib.evaluation import BinaryClassificationMetrics\n",
    "\n",
    "# finetuning\n",
    "from pyspark.ml.tuning import ParamGridBuilder, CrossValidator\n",
    "\n",
    "# viz\n",
    "import matplotlib.pyplot as plt\n",
    "import numpy as np\n",
    "import pandas as pd"
   ]
  },
  {
   "cell_type": "code",
   "execution_count": 2,
   "metadata": {},
   "outputs": [],
   "source": [
    "# init spark instance\n",
    "spark = SparkSession.builder.master('local[8]').appName('churnAnalysis').getOrCreate()"
   ]
  },
  {
   "cell_type": "code",
   "execution_count": 3,
   "metadata": {},
   "outputs": [
    {
     "data": {
      "text/plain": [
       "pyspark.sql.dataframe.DataFrame"
      ]
     },
     "execution_count": 3,
     "metadata": {},
     "output_type": "execute_result"
    }
   ],
   "source": [
    "# setting path to the data source\n",
    "file_location = \"./data.csv\"\n",
    "file_type = \"csv\"\n",
    "\n",
    "# reading options\n",
    "infer_schema = \"true\"\n",
    "first_row_is_header = \"true\"\n",
    "delimiter = \",\"\n",
    "\n",
    "# making spark dataframe\n",
    "df = spark.read.format(file_type) \\\n",
    "  .option(\"inferSchema\", infer_schema) \\\n",
    "  .option(\"header\", first_row_is_header) \\\n",
    "  .option(\"sep\", delimiter) \\\n",
    "  .option('nanValue', ' ')\\\n",
    "  .option('nullValue', ' ')\\\n",
    "  .load(file_location)\n",
    "\n",
    "type(df)"
   ]
  },
  {
   "cell_type": "code",
   "execution_count": 4,
   "metadata": {},
   "outputs": [
    {
     "name": "stdout",
     "output_type": "stream",
     "text": [
      "root\n",
      " |-- customerID: string (nullable = true)\n",
      " |-- gender: string (nullable = true)\n",
      " |-- SeniorCitizen: integer (nullable = true)\n",
      " |-- Partner: string (nullable = true)\n",
      " |-- Dependents: string (nullable = true)\n",
      " |-- tenure: integer (nullable = true)\n",
      " |-- PhoneService: string (nullable = true)\n",
      " |-- MultipleLines: string (nullable = true)\n",
      " |-- InternetService: string (nullable = true)\n",
      " |-- OnlineSecurity: string (nullable = true)\n",
      " |-- OnlineBackup: string (nullable = true)\n",
      " |-- DeviceProtection: string (nullable = true)\n",
      " |-- TechSupport: string (nullable = true)\n",
      " |-- StreamingTV: string (nullable = true)\n",
      " |-- StreamingMovies: string (nullable = true)\n",
      " |-- Contract: string (nullable = true)\n",
      " |-- PaperlessBilling: string (nullable = true)\n",
      " |-- PaymentMethod: string (nullable = true)\n",
      " |-- MonthlyCharges: double (nullable = true)\n",
      " |-- TotalCharges: double (nullable = true)\n",
      " |-- Churn: string (nullable = true)\n",
      "\n"
     ]
    }
   ],
   "source": [
    "# spark's way to check the data scheme\n",
    "df.printSchema()"
   ]
  },
  {
   "cell_type": "markdown",
   "metadata": {},
   "source": [
    "Check out the EDA part on Tableau <a href = 'https://public.tableau.com/profile/viramya#!/vizhome/TelecomChurnAnalysis_16052106757860/TelecomChurnAnalysis'>here</a>."
   ]
  },
  {
   "cell_type": "code",
   "execution_count": 5,
   "metadata": {},
   "outputs": [],
   "source": [
    "# selecting columns to transform\n",
    "catColumns = [i[0] for i in df.drop('Churn').drop('customerID').dtypes if i[1] == 'string']\n",
    "catColumns.append('SeniorCitizen')"
   ]
  },
  {
   "cell_type": "code",
   "execution_count": 6,
   "metadata": {},
   "outputs": [],
   "source": [
    "# setting up the pipeline\n",
    "# changing categorical variables\n",
    "\n",
    "stages= []\n",
    "for catCol in catColumns:\n",
    "    stringIndexer = StringIndexer( #string to string indice \n",
    "        inputCol = catCol, \n",
    "        outputCol = catCol + \"index\"\n",
    "    ) \n",
    "    encoder = OneHotEncoderEstimator( #string indice to one-hot\n",
    "        inputCols = [stringIndexer.getOutputCol()], \n",
    "        outputCols = [catCol + \"categoricalVector\"]\n",
    "    ) \n",
    "    stages += [stringIndexer, encoder]"
   ]
  },
  {
   "cell_type": "code",
   "execution_count": 7,
   "metadata": {},
   "outputs": [
    {
     "data": {
      "text/plain": [
       "32"
      ]
     },
     "execution_count": 7,
     "metadata": {},
     "output_type": "execute_result"
    }
   ],
   "source": [
    "# length of the pipeline for cateogrical values\n",
    "len(stages)"
   ]
  },
  {
   "cell_type": "code",
   "execution_count": 8,
   "metadata": {},
   "outputs": [],
   "source": [
    "# now for quantitative data\n",
    "\n",
    "imputer = Imputer(\n",
    "    inputCols = [\"TotalCharges\"], \n",
    "    outputCols = [\"Out_TotalCharges\"]\n",
    ")\n",
    "\n",
    "# adding imputer to the stage pipeline\n",
    "stages += [imputer]"
   ]
  },
  {
   "cell_type": "code",
   "execution_count": 9,
   "metadata": {},
   "outputs": [],
   "source": [
    "# convering Churn to indice\n",
    "label_Idx = StringIndexer(\n",
    "    inputCol = \"Churn\", \n",
    "    outputCol = \"label\"\n",
    ")\n",
    "\n",
    "# adding indexer to stage pipeline\n",
    "stages += [label_Idx]"
   ]
  },
  {
   "cell_type": "code",
   "execution_count": 10,
   "metadata": {},
   "outputs": [],
   "source": [
    "# spliting data into train/test\n",
    "churn_df = df\n",
    "train_data, test_data = churn_df.randomSplit([0.7, 0.3], 24)"
   ]
  },
  {
   "cell_type": "code",
   "execution_count": 11,
   "metadata": {},
   "outputs": [],
   "source": [
    "# label_Idx.fit(train_data).transform(train_data).take(1)"
   ]
  },
  {
   "cell_type": "code",
   "execution_count": 12,
   "metadata": {},
   "outputs": [],
   "source": [
    "# binning the tenure data\n",
    "tenure_bin = QuantileDiscretizer(\n",
    "    numBuckets = 5, \n",
    "    inputCol = \"tenure\", \n",
    "    outputCol = \"tenure_bin\"\n",
    ")\n",
    "\n",
    "# adding it to stage pipeline\n",
    "stages += [tenure_bin]"
   ]
  },
  {
   "cell_type": "code",
   "execution_count": 13,
   "metadata": {},
   "outputs": [
    {
     "data": {
      "text/plain": [
       "36"
      ]
     },
     "execution_count": 13,
     "metadata": {},
     "output_type": "execute_result"
    }
   ],
   "source": [
    "numericCols = [\"tenure_bin\", \"Out_TotalCharges\", \"MonthlyCharges\"]\n",
    "\n",
    "assembleInputs = [c + \"categoricalVector\" for c in catColumns] + numericCols # i added categoricalVector to catColumns\n",
    "\n",
    "# since spark accepts a sparse matrix for inputs, \n",
    "assembler = VectorAssembler(\n",
    "    inputCols = assembleInputs, \n",
    "    outputCol = \"features\"\n",
    ")\n",
    "stages += [assembler]\n",
    "len(stages) # there are a total of 36 transformations done to prepare the final data"
   ]
  },
  {
   "cell_type": "code",
   "execution_count": 14,
   "metadata": {},
   "outputs": [],
   "source": [
    "# create a pipeline for all the stages\n",
    "\n",
    "pipeline = Pipeline().setStages(stages)\n",
    "pipelineModel = pipeline.fit(train_data)"
   ]
  },
  {
   "cell_type": "code",
   "execution_count": 15,
   "metadata": {},
   "outputs": [],
   "source": [
    "# transforming train/test accordingly\n",
    "trainprepDF = pipelineModel.transform(train_data)\n",
    "testprepDF = pipelineModel.transform(test_data)"
   ]
  },
  {
   "cell_type": "code",
   "execution_count": 16,
   "metadata": {},
   "outputs": [],
   "source": [
    "# init the LR model\n",
    "lr = LogisticRegression(\n",
    "    labelCol = \"label\", \n",
    "    featuresCol = \"features\", \n",
    "    maxIter = 50,\n",
    "    regParam = 0.0, \n",
    "    elasticNetParam = 0.0, \n",
    "    tol = 1e-06, \n",
    "    fitIntercept = True, \n",
    "    threshold = 0.5\n",
    ")\n",
    "\n",
    "# training the model\n",
    "lrModel = lr.fit(trainprepDF)"
   ]
  },
  {
   "cell_type": "code",
   "execution_count": 17,
   "metadata": {},
   "outputs": [
    {
     "name": "stdout",
     "output_type": "stream",
     "text": [
      "Intercept: -1.464\n"
     ]
    },
    {
     "data": {
      "image/png": "[encoded data removed]",
      "text/plain": [
       "<Figure size 864x288 with 1 Axes>"
      ]
     },
     "metadata": {
      "needs_background": "light"
     },
     "output_type": "display_data"
    }
   ],
   "source": [
    "coeff = lrModel.coefficients.values\n",
    "plt.figure(figsize = (12, 4))\n",
    "plt.title(\"Coefficients\")\n",
    "ax = plt.bar(range(len(coeff)), coeff)\n",
    "print (\"Intercept: {:.3f}\".format(lrModel.intercept))"
   ]
  },
  {
   "cell_type": "code",
   "execution_count": 18,
   "metadata": {},
   "outputs": [
    {
     "data": {
      "text/html": [
       "<div>\n",
       "<style scoped>\n",
       "    .dataframe tbody tr th:only-of-type {\n",
       "        vertical-align: middle;\n",
       "    }\n",
       "\n",
       "    .dataframe tbody tr th {\n",
       "        vertical-align: top;\n",
       "    }\n",
       "\n",
       "    .dataframe thead th {\n",
       "        text-align: right;\n",
       "    }\n",
       "</style>\n",
       "<table border=\"1\" class=\"dataframe\">\n",
       "  <thead>\n",
       "    <tr style=\"text-align: right;\">\n",
       "      <th></th>\n",
       "      <th>Train Measures</th>\n",
       "    </tr>\n",
       "  </thead>\n",
       "  <tbody>\n",
       "    <tr>\n",
       "      <th>Accuracy</th>\n",
       "      <td>0.805126</td>\n",
       "    </tr>\n",
       "    <tr>\n",
       "      <th>AUC</th>\n",
       "      <td>0.852599</td>\n",
       "    </tr>\n",
       "    <tr>\n",
       "      <th>FPR</th>\n",
       "      <td>0.342549</td>\n",
       "    </tr>\n",
       "    <tr>\n",
       "      <th>TPR</th>\n",
       "      <td>0.805126</td>\n",
       "    </tr>\n",
       "    <tr>\n",
       "      <th>F score</th>\n",
       "      <td>0.799792</td>\n",
       "    </tr>\n",
       "    <tr>\n",
       "      <th>Precision</th>\n",
       "      <td>0.797778</td>\n",
       "    </tr>\n",
       "    <tr>\n",
       "      <th>Recall</th>\n",
       "      <td>0.805126</td>\n",
       "    </tr>\n",
       "  </tbody>\n",
       "</table>\n",
       "</div>"
      ],
      "text/plain": [
       "           Train Measures\n",
       "Accuracy         0.805126\n",
       "AUC              0.852599\n",
       "FPR              0.342549\n",
       "TPR              0.805126\n",
       "F score          0.799792\n",
       "Precision        0.797778\n",
       "Recall           0.805126"
      ]
     },
     "execution_count": 18,
     "metadata": {},
     "output_type": "execute_result"
    }
   ],
   "source": [
    "summary = lrModel.summary\n",
    "results_train = {\n",
    "    'Accuracy': summary.accuracy,\n",
    "    'AUC': summary.areaUnderROC,\n",
    "    'FPR': summary.weightedFalsePositiveRate,\n",
    "    'TPR': summary.weightedTruePositiveRate,\n",
    "    'F score': summary.weightedFMeasure(),\n",
    "    'Precision': summary.weightedPrecision,\n",
    "    'Recall': summary.weightedRecall\n",
    "}\n",
    "\n",
    "result_train = pd.DataFrame(results_train, index=[0]).T\n",
    "result_train.columns = ['Train Measures']\n",
    "result_train"
   ]
  },
  {
   "cell_type": "code",
   "execution_count": 19,
   "metadata": {},
   "outputs": [
    {
     "name": "stdout",
     "output_type": "stream",
     "text": [
      "AuPR: 0.541\n",
      "AuROC: 0.730\n",
      "AUC: 0.730\n"
     ]
    }
   ],
   "source": [
    "predictions = lrModel.transform(testprepDF)\n",
    "\n",
    "evaluatorLR = BinaryClassificationEvaluator(\n",
    "    rawPredictionCol = \"prediction\"\n",
    ")\n",
    "\n",
    "results = predictions.select(['prediction', 'label'])\n",
    "## prepare score-label set\n",
    "results_collect = results.collect()\n",
    "results_list = [(float(i[0]), float(i[1])) for i in results_collect]\n",
    "predictionAndLabels = spark.sparkContext.parallelize(results_list)\n",
    "metrics = BinaryClassificationMetrics(predictionAndLabels)\n",
    "\n",
    "print(\"AuPR: {:.3f}\".format(metrics.areaUnderPR))\n",
    "print(\"AuROC: {:.3f}\".format(metrics.areaUnderROC))\n",
    "area_under_curve = evaluatorLR.evaluate(predictions)\n",
    "print(\"AUC: {:.3f}\".format(area_under_curve))"
   ]
  },
  {
   "cell_type": "code",
   "execution_count": 20,
   "metadata": {},
   "outputs": [],
   "source": [
    "# grid search\n",
    "paramGrid = (ParamGridBuilder()\n",
    "             .addGrid(lr.regParam, [0.01, 0.5, 2.0])\n",
    "             .addGrid(lr.elasticNetParam, [0.0, 0.5, 1.0])\n",
    "             .addGrid(lr.maxIter, [5, 10, 20])\n",
    "             .build())"
   ]
  },
  {
   "cell_type": "code",
   "execution_count": 21,
   "metadata": {},
   "outputs": [],
   "source": [
    "cv = CrossValidator(\n",
    "    estimator = lr, \n",
    "    estimatorParamMaps = paramGrid, \n",
    "    evaluator = evaluatorLR, \n",
    "    numFolds = 5\n",
    ")\n",
    "\n",
    "# run cross validations\n",
    "cvModel = cv.fit(trainprepDF)"
   ]
  },
  {
   "cell_type": "code",
   "execution_count": 22,
   "metadata": {},
   "outputs": [],
   "source": [
    "predictions = cvModel.bestModel.transform(testprepDF)"
   ]
  },
  {
   "cell_type": "code",
   "execution_count": 23,
   "metadata": {},
   "outputs": [
    {
     "data": {
      "text/plain": [
       "0.7245300247072726"
      ]
     },
     "execution_count": 23,
     "metadata": {},
     "output_type": "execute_result"
    }
   ],
   "source": [
    "evaluatorLR.evaluate(predictions)"
   ]
  },
  {
   "cell_type": "code",
   "execution_count": 24,
   "metadata": {},
   "outputs": [],
   "source": [
    "# random forest model\n",
    "rf = RandomForestClassifier(\n",
    "    labelCol = \"label\", \n",
    "    featuresCol = \"features\"\n",
    ").setImpurity(\"gini\") \\\n",
    ".setMaxDepth(6) \\\n",
    ".setNumTrees(50) \\\n",
    ".setFeatureSubsetStrategy(\"auto\") \\\n",
    ".setSeed(1010)\n",
    "\n",
    "rfModel = rf.fit(trainprepDF)"
   ]
  },
  {
   "cell_type": "code",
   "execution_count": 25,
   "metadata": {},
   "outputs": [],
   "source": [
    "predictions = rfModel.transform(testprepDF)"
   ]
  },
  {
   "cell_type": "code",
   "execution_count": 26,
   "metadata": {},
   "outputs": [
    {
     "name": "stdout",
     "output_type": "stream",
     "text": [
      "Correct: 1718\n",
      "Wrong: 409\n",
      "tp: 273\n",
      "fp: 160\n",
      "fn: 249\n",
      "tn: 1445\n",
      "Accuracy: 0.8077103902209685\n",
      "Precision: 0.6304849884526559\n",
      "Recall: 0.5229885057471264\n"
     ]
    }
   ],
   "source": [
    "results = predictions.select(['prediction', 'label'])\n",
    "\n",
    "count = predictions.count()\n",
    "correct = results.filter(results.prediction == results.label).count()\n",
    "wrong = results.filter(results.prediction != results.label).count()\n",
    "tp = results.filter(results.prediction == 1.0).filter(results.prediction == results.label).count()\n",
    "fp = results.filter(results.prediction == 1.0).filter(results.prediction != results.label).count()\n",
    "fn = results.filter(results.prediction == 0.0).filter(results.prediction != results.label).count()\n",
    "tn = results.filter(results.prediction == 0.0).filter(results.prediction == results.label).count()\n",
    "\n",
    "accuracy = (tp+tn)/count\n",
    "\n",
    "precision = tp/(tp+fp)\n",
    "\n",
    "recall = tp/(tp+fn)\n",
    "\n",
    "print(\"Correct: %s\\nWrong: %s\\ntp: %s\\nfp: %s\\nfn: %s\\ntn: %s\\nAccuracy: %s\\nPrecision: %s\\nRecall: %s\"\n",
    "      % (correct, wrong, tp, fp, fn, tn, accuracy, precision, recall))\n"
   ]
  }
 ],
 "metadata": {
  "kernelspec": {
   "display_name": "Python 3",
   "language": "python",
   "name": "python3"
  },
  "language_info": {
   "codemirror_mode": {
    "name": "ipython",
    "version": 3
   },
   "file_extension": ".py",
   "mimetype": "text/x-python",
   "name": "python",
   "nbconvert_exporter": "python",
   "pygments_lexer": "ipython3",
   "version": "3.7.7"
  },
  "name": "Churn-Analysis",
  "notebookId": 491467856086877
 },
 "nbformat": 4,
 "nbformat_minor": 1
}
